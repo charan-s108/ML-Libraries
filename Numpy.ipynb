{
 "cells": [
  {
   "cell_type": "markdown",
   "id": "5ebf58ce",
   "metadata": {},
   "source": [
    "# NumPy"
   ]
  },
  {
   "cell_type": "code",
   "execution_count": 1,
   "id": "ddfd2848",
   "metadata": {},
   "outputs": [],
   "source": [
    "# https://www.geeksforgeeks.org/introduction-to-numpy/"
   ]
  },
  {
   "cell_type": "code",
   "execution_count": 2,
   "id": "0f67a710",
   "metadata": {},
   "outputs": [],
   "source": [
    "# importing NumPy\n",
    "import numpy as np"
   ]
  },
  {
   "cell_type": "markdown",
   "id": "a468e3cf",
   "metadata": {},
   "source": [
    "# Basic Commands using NumPy"
   ]
  },
  {
   "cell_type": "markdown",
   "id": "4e22949f",
   "metadata": {},
   "source": [
    "- **arr.ndim**: Number of dimensions (axes) of the array `arr`.\n",
    "- **arr.shape**: Tuple indicating the array's shape, i.e., dimensions along each axis.\n",
    "- **arr.size**: Total number of elements in the array `arr`.\n",
    "- **arr.dtype**: Data type of the elements in the array `arr`.\n",
    "- **id(arr)**: Unique identifier for the array object `arr` in Python's memory.\n",
    "- **type(arr)**: Type of the array object `arr`, usually `numpy.ndarray`.\n",
    "- **len(arr)**: Length of the first dimension of the array `arr`.\n",
    "- **np.array(arr)**: Creates a new NumPy array from the iterable `arr`.\n",
    "- **np.copy(arr)**: Copies the np.array to a new NumPy array `arr` ."
   ]
  },
  {
   "cell_type": "markdown",
   "id": "2f674c47",
   "metadata": {},
   "source": [
    "# Array Creation"
   ]
  },
  {
   "cell_type": "markdown",
   "id": "8768e4b4",
   "metadata": {},
   "source": [
    "- **np.zeros**: Create an array filled with `zeros`.\n",
    "- **np.ones**: Create an array filled with `ones`.\n",
    "- **np.empty** : Create an `uninitialized` array.\n",
    "- **np.arange**: Create an array with a `range of values`.\n",
    "- **np.random.randn**: Create an array of `random natural values`.\n",
    "- **np.random.randint**: Create an array of `random integers`.\n",
    "- **np.full**: Create an array filled with a `specified value`.\n",
    "- **np.eye**: Create a `2D identity matrix`."
   ]
  },
  {
   "cell_type": "markdown",
   "id": "39c4a1a5",
   "metadata": {},
   "source": [
    "# Array Manipulation"
   ]
  },
  {
   "cell_type": "markdown",
   "id": "5c030705",
   "metadata": {},
   "source": [
    "- **np.reshape**: `Reshape` an array.\n",
    "- **np.flatten**: `Flatten` an array into a 1D array.\n",
    "- **np.transpose**: `Transpose` dimensions of an array.\n",
    "- **np.concatenate**: `Concatenate` arrays along a specified axis.\n",
    "- **np.split**: `Split` an array into multiple sub-arrays.\n",
    "- **np.resize**: `Resize` an array."
   ]
  },
  {
   "cell_type": "markdown",
   "id": "af096221",
   "metadata": {},
   "source": [
    "# Mathematical Functions"
   ]
  },
  {
   "cell_type": "markdown",
   "id": "9ef161d2",
   "metadata": {},
   "source": [
    "- **np.sum**: `Sum` of array elements.\n",
    "- **np.mean**: `Mean` of array elements.\n",
    "- **np.std**: `Standard deviation` of array elements.\n",
    "- **np.var**: `Variance` of array elements.\n",
    "- **np.min**: `Minimum` value in an array.\n",
    "- **np.max**: `Maximum` value in an array.\n",
    "- **np.argmin**: `Index` of `minimum` value.\n",
    "- **np.argmax**: `Index` of `maximum` value.\n",
    "- **np.sqrt**: `Square root` of each element.\n",
    "- **np.exp**: `Exponential` of each element.\n",
    "- **np.dot**: `Dot produc`t of two arrays.\n",
    "- **np.cross**: `Cross product` of two arrays."
   ]
  },
  {
   "cell_type": "markdown",
   "id": "de9762f7",
   "metadata": {},
   "source": [
    "# Statistical Operations"
   ]
  },
  {
   "cell_type": "markdown",
   "id": "a2dd01dc",
   "metadata": {},
   "source": [
    "- **np.histogram**: Compute `histogram` of an array.\n",
    "- **np.percentile**: Compute the `nth percentile` of an array.\n",
    "- **np.corrcoef**: Compute `correlation coefficients`."
   ]
  },
  {
   "cell_type": "markdown",
   "id": "42709522",
   "metadata": {},
   "source": [
    "# Logical Operations"
   ]
  },
  {
   "cell_type": "markdown",
   "id": "1220e03e",
   "metadata": {},
   "source": [
    "- **np.logical_and**: Element-wise logical `AND`.\n",
    "- **np.logical_or**: Element-wise logical `OR`.\n",
    "- **np.logical_not**: Element-wise logical `NOT`."
   ]
  },
  {
   "cell_type": "markdown",
   "id": "09a5897d",
   "metadata": {},
   "source": [
    "# Sorting, Searching and Counting"
   ]
  },
  {
   "cell_type": "markdown",
   "id": "1fdcf566",
   "metadata": {},
   "source": [
    "- **np.sort**: `Sort` elements of an array.\n",
    "- **np.argsort**: `Indices` that would sort an array.\n",
    "- **np.searchsorted**: Find indices where elements should be inserted to maintain order.\n",
    "- **np.unique**: Find `unique` elements in an array.\n",
    "- **np.bincount**: `Count occurrences` of each value in an array of non-negative integers."
   ]
  },
  {
   "cell_type": "markdown",
   "id": "3a635c07",
   "metadata": {},
   "source": [
    "# File Operations"
   ]
  },
  {
   "cell_type": "markdown",
   "id": "8da93d06",
   "metadata": {},
   "source": [
    "- **np.load**: Load arrays from .npy files.\n",
    "- **np.save**: Save arrays to .npy files.\n",
    "- **np.savetxt**: Save arrays to text files.\n",
    "- **np.loadtxt**: Load data from text files."
   ]
  },
  {
   "cell_type": "markdown",
   "id": "6faade69",
   "metadata": {},
   "source": [
    "# Basic Commands Examples"
   ]
  },
  {
   "cell_type": "code",
   "execution_count": 3,
   "id": "dedff79d",
   "metadata": {},
   "outputs": [],
   "source": [
    "# Create a NumPy array for demonstration\n",
    "arr = np.array([[1, 2, 3], [4, 5, 6]])"
   ]
  },
  {
   "cell_type": "code",
   "execution_count": 4,
   "id": "faa17692",
   "metadata": {},
   "outputs": [
    {
     "name": "stdout",
     "output_type": "stream",
     "text": [
      "Number of dimensions: 2\n"
     ]
    }
   ],
   "source": [
    "# arr.ndim: Number of dimensions (axes) of the array arr\n",
    "print(\"Number of dimensions:\", arr.ndim)"
   ]
  },
  {
   "cell_type": "code",
   "execution_count": 5,
   "id": "f8c4783d",
   "metadata": {},
   "outputs": [
    {
     "name": "stdout",
     "output_type": "stream",
     "text": [
      "Shape of the array: (2, 3)\n"
     ]
    }
   ],
   "source": [
    "# arr.shape: Tuple indicating the array's shape\n",
    "print(\"Shape of the array:\", arr.shape)"
   ]
  },
  {
   "cell_type": "code",
   "execution_count": 6,
   "id": "ea96f4dd",
   "metadata": {},
   "outputs": [
    {
     "name": "stdout",
     "output_type": "stream",
     "text": [
      "Total number of elements: 6\n"
     ]
    }
   ],
   "source": [
    "# arr.size: Total number of elements in the array arr\n",
    "print(\"Total number of elements:\", arr.size)"
   ]
  },
  {
   "cell_type": "code",
   "execution_count": 7,
   "id": "61dd9ab7",
   "metadata": {},
   "outputs": [
    {
     "name": "stdout",
     "output_type": "stream",
     "text": [
      "Data type of the array elements: int32\n"
     ]
    }
   ],
   "source": [
    "# arr.dtype: Data type of the elements in the array arr\n",
    "print(\"Data type of the array elements:\", arr.dtype)"
   ]
  },
  {
   "cell_type": "code",
   "execution_count": 8,
   "id": "22c28920",
   "metadata": {},
   "outputs": [
    {
     "name": "stdout",
     "output_type": "stream",
     "text": [
      "Unique identifier of the array object: 3170090518736\n"
     ]
    }
   ],
   "source": [
    "# id(arr): Unique identifier for the array object arr in Python's memory\n",
    "print(\"Unique identifier of the array object:\", id(arr))"
   ]
  },
  {
   "cell_type": "code",
   "execution_count": 10,
   "id": "61fe3a05",
   "metadata": {},
   "outputs": [
    {
     "name": "stdout",
     "output_type": "stream",
     "text": [
      "Type of the array object: <class 'numpy.ndarray'>\n"
     ]
    }
   ],
   "source": [
    "# type(arr): Type of the array object arr\n",
    "print(\"Type of the array object:\", type(arr))"
   ]
  },
  {
   "cell_type": "code",
   "execution_count": 11,
   "id": "774996c9",
   "metadata": {},
   "outputs": [
    {
     "name": "stdout",
     "output_type": "stream",
     "text": [
      "Length of the first dimension: 2\n"
     ]
    }
   ],
   "source": [
    "# len(arr): Length of the first dimension of the array arr\n",
    "print(\"Length of the first dimension:\", len(arr))"
   ]
  },
  {
   "cell_type": "markdown",
   "id": "67b5c3d3",
   "metadata": {},
   "source": [
    "# Array Creation Examples"
   ]
  },
  {
   "cell_type": "code",
   "execution_count": 12,
   "id": "a8da0652",
   "metadata": {},
   "outputs": [
    {
     "name": "stdout",
     "output_type": "stream",
     "text": [
      "New NumPy array from arr:\n",
      " [[1 2 3]\n",
      " [4 5 6]]\n"
     ]
    }
   ],
   "source": [
    "# np.array(arr): Creates a new NumPy array from the iterable arr\n",
    "new_arr = np.array(arr)\n",
    "print(\"New NumPy array from arr:\\n\", new_arr)"
   ]
  },
  {
   "cell_type": "code",
   "execution_count": 13,
   "id": "3ae0ae25",
   "metadata": {},
   "outputs": [
    {
     "name": "stdout",
     "output_type": "stream",
     "text": [
      "Copied NumPy array:\n",
      " [[1 2 3]\n",
      " [4 5 6]]\n"
     ]
    }
   ],
   "source": [
    "# np.copy(arr): Copies the NumPy array arr to a new array\n",
    "arr_copy = np.copy(arr)\n",
    "print(\"Copied NumPy array:\\n\", arr_copy)"
   ]
  },
  {
   "cell_type": "code",
   "execution_count": 14,
   "id": "4124d1de",
   "metadata": {},
   "outputs": [
    {
     "name": "stdout",
     "output_type": "stream",
     "text": [
      "Array filled with zeros:\n",
      " [[0. 0. 0.]\n",
      " [0. 0. 0.]]\n"
     ]
    }
   ],
   "source": [
    "# np.zeros: Create an array filled with zeros\n",
    "zeros_arr = np.zeros((2, 3))  # Creates a 2x3 array filled with zeros\n",
    "print(\"Array filled with zeros:\\n\", zeros_arr)"
   ]
  },
  {
   "cell_type": "code",
   "execution_count": 15,
   "id": "8a573eab",
   "metadata": {},
   "outputs": [
    {
     "name": "stdout",
     "output_type": "stream",
     "text": [
      "Array filled with ones:\n",
      " [[1. 1.]\n",
      " [1. 1.]\n",
      " [1. 1.]]\n"
     ]
    }
   ],
   "source": [
    "# np.ones: Create an array filled with ones\n",
    "ones_arr = np.ones((3, 2))  # Creates a 3x2 array filled with ones\n",
    "print(\"Array filled with ones:\\n\", ones_arr)"
   ]
  },
  {
   "cell_type": "code",
   "execution_count": 16,
   "id": "78dca929",
   "metadata": {},
   "outputs": [
    {
     "name": "stdout",
     "output_type": "stream",
     "text": [
      "Uninitialized array:\n",
      " [[2.12199579e-314 6.01334412e-154]\n",
      " [5.98807563e-321 3.79442416e-321]]\n"
     ]
    }
   ],
   "source": [
    "# np.empty: Create an uninitialized array\n",
    "empty_arr = np.empty((2, 2))  # Creates a 2x2 uninitialized array (values can be garbage)\n",
    "print(\"Uninitialized array:\\n\", empty_arr)"
   ]
  },
  {
   "cell_type": "code",
   "execution_count": 17,
   "id": "2dfdc417",
   "metadata": {},
   "outputs": [
    {
     "name": "stdout",
     "output_type": "stream",
     "text": [
      "Array with range of values: [1 3 5 7 9]\n"
     ]
    }
   ],
   "source": [
    "# np.arange: Create an array with a range of values\n",
    "range_arr = np.arange(1, 10, 2)  # Creates an array from 1 to 9 (exclusive) with step 2\n",
    "print(\"Array with range of values:\", range_arr)"
   ]
  },
  {
   "cell_type": "code",
   "execution_count": 18,
   "id": "39d9ef1f",
   "metadata": {},
   "outputs": [
    {
     "name": "stdout",
     "output_type": "stream",
     "text": [
      "Array of random values (standard normal distribution):\n",
      " [[-0.9182247   0.75203783 -0.49045956]\n",
      " [ 1.03717228  1.77593421 -1.35457954]\n",
      " [ 2.47255838  0.35393412 -0.06488311]]\n"
     ]
    }
   ],
   "source": [
    "# np.random.randn: Create an array of random values from a normal distribution\n",
    "randn_arr = np.random.randn(3, 3)  # Creates a 3x3 array of random values from a standard normal distribution\n",
    "print(\"Array of random values (standard normal distribution):\\n\", randn_arr)"
   ]
  },
  {
   "cell_type": "code",
   "execution_count": 19,
   "id": "571cbadb",
   "metadata": {},
   "outputs": [
    {
     "name": "stdout",
     "output_type": "stream",
     "text": [
      "Array of random integers:\n",
      " [[8 6 5]\n",
      " [1 1 3]]\n"
     ]
    }
   ],
   "source": [
    "# np.random.randint: Create an array of random integers\n",
    "randint_arr = np.random.randint(1, 10, size=(2, 3))  # Creates a 2x3 array with random integers from 1 to 9\n",
    "print(\"Array of random integers:\\n\", randint_arr)"
   ]
  },
  {
   "cell_type": "code",
   "execution_count": 20,
   "id": "cfb78d23",
   "metadata": {},
   "outputs": [
    {
     "name": "stdout",
     "output_type": "stream",
     "text": [
      "Array filled with specified value:\n",
      " [[5 5 5 5]\n",
      " [5 5 5 5]]\n"
     ]
    }
   ],
   "source": [
    "# np.full: Create an array filled with a specified value\n",
    "full_arr = np.full((2, 4), 5)  # Creates a 2x4 array filled with the value 5\n",
    "print(\"Array filled with specified value:\\n\", full_arr)"
   ]
  },
  {
   "cell_type": "code",
   "execution_count": 21,
   "id": "aab7dde7",
   "metadata": {},
   "outputs": [
    {
     "name": "stdout",
     "output_type": "stream",
     "text": [
      "2D Identity matrix:\n",
      " [[1. 0. 0.]\n",
      " [0. 1. 0.]\n",
      " [0. 0. 1.]]\n"
     ]
    }
   ],
   "source": [
    "# np.eye: Create a 2D identity matrix\n",
    "identity_matrix = np.eye(3)  # Creates a 3x3 identity matrix\n",
    "print(\"2D Identity matrix:\\n\", identity_matrix)"
   ]
  },
  {
   "cell_type": "markdown",
   "id": "09d4c93a",
   "metadata": {},
   "source": [
    "# Array Manipulation Examples"
   ]
  },
  {
   "cell_type": "code",
   "execution_count": 22,
   "id": "e9b15b08",
   "metadata": {},
   "outputs": [],
   "source": [
    "# Create NumPy arrays for demonstration\n",
    "arr1 = np.array([[1, 2, 3], [4, 5, 6]])\n",
    "arr2 = np.array([[7, 8], [9, 10]])"
   ]
  },
  {
   "cell_type": "code",
   "execution_count": 23,
   "id": "66f1ca05",
   "metadata": {},
   "outputs": [
    {
     "name": "stdout",
     "output_type": "stream",
     "text": [
      "Reshaped array:\n",
      " [[1 2]\n",
      " [3 4]\n",
      " [5 6]]\n"
     ]
    }
   ],
   "source": [
    "# np.reshape: Reshape an array\n",
    "reshaped_arr = np.reshape(arr1, (3, 2))  # Reshape arr1 to a 3x2 array\n",
    "print(\"Reshaped array:\\n\", reshaped_arr)"
   ]
  },
  {
   "cell_type": "code",
   "execution_count": 24,
   "id": "f99477fc",
   "metadata": {},
   "outputs": [
    {
     "name": "stdout",
     "output_type": "stream",
     "text": [
      "Flattened array: [1 2 3 4 5 6]\n"
     ]
    }
   ],
   "source": [
    "# np.flatten: Flatten an array into a 1D array\n",
    "flattened_arr = arr1.flatten()  # Flatten arr1 into a 1D array\n",
    "print(\"Flattened array:\", flattened_arr)"
   ]
  },
  {
   "cell_type": "code",
   "execution_count": 25,
   "id": "c38e9be1",
   "metadata": {},
   "outputs": [
    {
     "name": "stdout",
     "output_type": "stream",
     "text": [
      "Transposed array (arr1):\n",
      " [[1 4]\n",
      " [2 5]\n",
      " [3 6]]\n",
      "Transposed array (arr2):\n",
      " [[ 7  9]\n",
      " [ 8 10]]\n"
     ]
    }
   ],
   "source": [
    "# np.transpose: Transpose dimensions of an array\n",
    "transposed_arr1 = np.transpose(arr1)  # Transpose arr1 (2x3 -> 3x2)\n",
    "print(\"Transposed array (arr1):\\n\", transposed_arr1)\n",
    "transposed_arr2 = arr2.T  # Shorthand for transpose\n",
    "print(\"Transposed array (arr2):\\n\", transposed_arr2)"
   ]
  },
  {
   "cell_type": "code",
   "execution_count": 26,
   "id": "39745acc",
   "metadata": {},
   "outputs": [
    {
     "name": "stdout",
     "output_type": "stream",
     "text": [
      "Concatenated array along axis 1:\n",
      " [[ 1  2  3  7  8]\n",
      " [ 4  5  6  9 10]]\n"
     ]
    }
   ],
   "source": [
    "# np.concatenate: Concatenate arrays along a specified axis\n",
    "concatenated_arr = np.concatenate((arr1, arr2), axis=1)  # Concatenate along columns (axis=1)\n",
    "print(\"Concatenated array along axis 1:\\n\", concatenated_arr)"
   ]
  },
  {
   "cell_type": "code",
   "execution_count": 29,
   "id": "f6034753",
   "metadata": {},
   "outputs": [
    {
     "name": "stdout",
     "output_type": "stream",
     "text": [
      "Split array along axis 1:\n",
      " [array([[1],\n",
      "       [4]]), array([[2],\n",
      "       [5]]), array([[3],\n",
      "       [6]])]\n"
     ]
    }
   ],
   "source": [
    "# np.split: Split an array into multiple sub-arrays\n",
    "split_arr = np.split(arr1, 3, axis=1)  # Split arr1 into 2 sub-arrays along columns\n",
    "print(\"Split array along axis 1:\\n\", split_arr)"
   ]
  },
  {
   "cell_type": "code",
   "execution_count": 28,
   "id": "26cae829",
   "metadata": {},
   "outputs": [
    {
     "name": "stdout",
     "output_type": "stream",
     "text": [
      "Resized array:\n",
      " [[1 2 3]\n",
      " [4 5 6]\n",
      " [1 2 3]]\n"
     ]
    }
   ],
   "source": [
    "# np.resize: Resize an array\n",
    "resized_arr = np.resize(arr1, (3, 3))  # Resize arr1 to a 3x3 array\n",
    "print(\"Resized array:\\n\", resized_arr)"
   ]
  },
  {
   "cell_type": "markdown",
   "id": "6eed1e37",
   "metadata": {},
   "source": [
    "# Mathematical Functions Examples"
   ]
  },
  {
   "cell_type": "code",
   "execution_count": 30,
   "id": "534fafc0",
   "metadata": {},
   "outputs": [],
   "source": [
    "# Create a NumPy array for demonstration\n",
    "arr = np.array([[1, 2, 3], [4, 5, 6]])"
   ]
  },
  {
   "cell_type": "code",
   "execution_count": 31,
   "id": "2049550a",
   "metadata": {},
   "outputs": [
    {
     "name": "stdout",
     "output_type": "stream",
     "text": [
      "Sum of array elements: 21\n"
     ]
    }
   ],
   "source": [
    "# np.sum: Sum of array elements\n",
    "sum_arr = np.sum(arr)  # Sum of all elements in arr\n",
    "print(\"Sum of array elements:\", sum_arr)"
   ]
  },
  {
   "cell_type": "code",
   "execution_count": 32,
   "id": "319cd907",
   "metadata": {},
   "outputs": [
    {
     "name": "stdout",
     "output_type": "stream",
     "text": [
      "Mean of array elements: 3.5\n"
     ]
    }
   ],
   "source": [
    "# np.mean: Mean of array elements\n",
    "mean_arr = np.mean(arr)  # Mean of all elements in arr\n",
    "print(\"Mean of array elements:\", mean_arr)"
   ]
  },
  {
   "cell_type": "code",
   "execution_count": 33,
   "id": "b4b9341f",
   "metadata": {},
   "outputs": [
    {
     "name": "stdout",
     "output_type": "stream",
     "text": [
      "Standard deviation of array elements: 1.707825127659933\n"
     ]
    }
   ],
   "source": [
    "# np.std: Standard deviation of array elements\n",
    "std_arr = np.std(arr)  # Standard deviation of all elements in arr\n",
    "print(\"Standard deviation of array elements:\", std_arr)"
   ]
  },
  {
   "cell_type": "code",
   "execution_count": 34,
   "id": "4f60947b",
   "metadata": {},
   "outputs": [
    {
     "name": "stdout",
     "output_type": "stream",
     "text": [
      "Variance of array elements: 2.9166666666666665\n"
     ]
    }
   ],
   "source": [
    "# np.var: Variance of array elements\n",
    "var_arr = np.var(arr)  # Variance of all elements in arr\n",
    "print(\"Variance of array elements:\", var_arr)"
   ]
  },
  {
   "cell_type": "code",
   "execution_count": 35,
   "id": "eae108cb",
   "metadata": {},
   "outputs": [
    {
     "name": "stdout",
     "output_type": "stream",
     "text": [
      "Minimum value in array: 1\n"
     ]
    }
   ],
   "source": [
    "# np.min: Minimum value in an array\n",
    "min_arr = np.min(arr)  # Minimum value in arr\n",
    "print(\"Minimum value in array:\", min_arr)"
   ]
  },
  {
   "cell_type": "code",
   "execution_count": 36,
   "id": "61fc9dff",
   "metadata": {},
   "outputs": [
    {
     "name": "stdout",
     "output_type": "stream",
     "text": [
      "Maximum value in array: 6\n"
     ]
    }
   ],
   "source": [
    "# np.max: Maximum value in an array\n",
    "max_arr = np.max(arr)  # Maximum value in arr\n",
    "print(\"Maximum value in array:\", max_arr)"
   ]
  },
  {
   "cell_type": "code",
   "execution_count": 37,
   "id": "97a531fb",
   "metadata": {},
   "outputs": [
    {
     "name": "stdout",
     "output_type": "stream",
     "text": [
      "Index of minimum value in array: 0\n"
     ]
    }
   ],
   "source": [
    "# np.argmin: Index of minimum value\n",
    "argmin_arr = np.argmin(arr)  # Index of the minimum value in arr (flattened)\n",
    "print(\"Index of minimum value in array:\", argmin_arr)"
   ]
  },
  {
   "cell_type": "code",
   "execution_count": 38,
   "id": "be9fe540",
   "metadata": {},
   "outputs": [
    {
     "name": "stdout",
     "output_type": "stream",
     "text": [
      "Index of maximum value in array: 5\n"
     ]
    }
   ],
   "source": [
    "# np.argmax: Index of maximum value\n",
    "argmax_arr = np.argmax(arr)  # Index of the maximum value in arr (flattened)\n",
    "print(\"Index of maximum value in array:\", argmax_arr)"
   ]
  },
  {
   "cell_type": "code",
   "execution_count": 39,
   "id": "b0dfcabc",
   "metadata": {},
   "outputs": [
    {
     "name": "stdout",
     "output_type": "stream",
     "text": [
      "Square root of array elements:\n",
      " [[1.         1.41421356 1.73205081]\n",
      " [2.         2.23606798 2.44948974]]\n"
     ]
    }
   ],
   "source": [
    "# np.sqrt: Square root of each element\n",
    "sqrt_arr = np.sqrt(arr)  # Element-wise square root of arr\n",
    "print(\"Square root of array elements:\\n\", sqrt_arr)"
   ]
  },
  {
   "cell_type": "code",
   "execution_count": 40,
   "id": "5cf7ecf5",
   "metadata": {},
   "outputs": [
    {
     "name": "stdout",
     "output_type": "stream",
     "text": [
      "Exponential of array elements:\n",
      " [[  2.71828183   7.3890561   20.08553692]\n",
      " [ 54.59815003 148.4131591  403.42879349]]\n"
     ]
    }
   ],
   "source": [
    "# np.exp: Exponential of each element\n",
    "exp_arr = np.exp(arr)  # Element-wise exponential of arr\n",
    "print(\"Exponential of array elements:\\n\", exp_arr)"
   ]
  },
  {
   "cell_type": "code",
   "execution_count": 41,
   "id": "7830c38f",
   "metadata": {},
   "outputs": [
    {
     "name": "stdout",
     "output_type": "stream",
     "text": [
      "Dot product of two arrays: 11\n"
     ]
    }
   ],
   "source": [
    "# np.dot: Dot product of two arrays\n",
    "arr1 = np.array([1, 2])\n",
    "arr2 = np.array([3, 4])\n",
    "dot_product = np.dot(arr1, arr2)  # Dot product of arr1 and arr2\n",
    "print(\"Dot product of two arrays:\", dot_product)"
   ]
  },
  {
   "cell_type": "code",
   "execution_count": 42,
   "id": "68099c1d",
   "metadata": {},
   "outputs": [
    {
     "name": "stdout",
     "output_type": "stream",
     "text": [
      "Cross product of two arrays: -2\n"
     ]
    }
   ],
   "source": [
    "# np.cross: Cross product of two arrays\n",
    "cross_product = np.cross(arr1, arr2)  # Cross product of arr1 and arr2\n",
    "print(\"Cross product of two arrays:\", cross_product)"
   ]
  },
  {
   "cell_type": "markdown",
   "id": "8d197eda",
   "metadata": {},
   "source": [
    "# Statistical Operations Examples"
   ]
  },
  {
   "cell_type": "code",
   "execution_count": 43,
   "id": "af66421f",
   "metadata": {},
   "outputs": [],
   "source": [
    "# Create a NumPy array for demonstration\n",
    "arr = np.array([1, 2, 3, 4, 5, 6, 7, 8, 9, 10])"
   ]
  },
  {
   "cell_type": "code",
   "execution_count": 44,
   "id": "33abde38",
   "metadata": {},
   "outputs": [
    {
     "name": "stdout",
     "output_type": "stream",
     "text": [
      "Histogram values: [2 2 2 2 2]\n",
      "Histogram bins: [ 1.   2.8  4.6  6.4  8.2 10. ]\n"
     ]
    }
   ],
   "source": [
    "# np.histogram: Compute histogram of an array\n",
    "hist, bins = np.histogram(arr, bins=5)  # Compute histogram with 5 bins\n",
    "print(\"Histogram values:\", hist)\n",
    "print(\"Histogram bins:\", bins)"
   ]
  },
  {
   "cell_type": "code",
   "execution_count": 45,
   "id": "62af7e26",
   "metadata": {},
   "outputs": [
    {
     "name": "stdout",
     "output_type": "stream",
     "text": [
      "50th percentile (median): 5.5\n",
      "90th percentile: 9.1\n"
     ]
    }
   ],
   "source": [
    "# np.percentile: Compute the nth percentile of an array\n",
    "percentile_50 = np.percentile(arr, 50)  # 50th percentile (median)\n",
    "percentile_90 = np.percentile(arr, 90)  # 90th percentile\n",
    "print(\"50th percentile (median):\", percentile_50)\n",
    "print(\"90th percentile:\", percentile_90)"
   ]
  },
  {
   "cell_type": "code",
   "execution_count": 48,
   "id": "bf3f02d2",
   "metadata": {},
   "outputs": [
    {
     "name": "stdout",
     "output_type": "stream",
     "text": [
      "2 Dimension Array: [[ 1  2  3  4]\n",
      " [ 4  5  6  7]\n",
      " [ 7  8  9 10]]\n"
     ]
    }
   ],
   "source": [
    "# Generate a 2D array for np.corrcoef demonstration\n",
    "arr2d = np.array([[1, 2, 3, 4], [4, 5, 6, 7], [7, 8, 9, 10]])\n",
    "print(\"2 Dimension Array:\", arr2d)"
   ]
  },
  {
   "cell_type": "code",
   "execution_count": 47,
   "id": "25909795",
   "metadata": {},
   "outputs": [
    {
     "name": "stdout",
     "output_type": "stream",
     "text": [
      "Correlation coefficients:\n",
      " [[1. 1. 1.]\n",
      " [1. 1. 1.]\n",
      " [1. 1. 1.]]\n"
     ]
    }
   ],
   "source": [
    "# np.corrcoef: Compute correlation coefficients\n",
    "corrcoef = np.corrcoef(arr2d)  # Compute correlation matrix for rows of arr2d\n",
    "print(\"Correlation coefficients:\\n\", corrcoef)"
   ]
  },
  {
   "cell_type": "markdown",
   "id": "6193ef9f",
   "metadata": {},
   "source": [
    "# Logical Operations Examples"
   ]
  },
  {
   "cell_type": "code",
   "execution_count": 49,
   "id": "5a8b2804",
   "metadata": {},
   "outputs": [],
   "source": [
    "# Create NumPy arrays for demonstration\n",
    "arr1 = np.array([True, True, False, False])\n",
    "arr2 = np.array([True, False, True, False])"
   ]
  },
  {
   "cell_type": "code",
   "execution_count": 50,
   "id": "a0f1bf74",
   "metadata": {},
   "outputs": [
    {
     "name": "stdout",
     "output_type": "stream",
     "text": [
      "Element-wise logical AND:\n",
      " [ True False False False]\n"
     ]
    }
   ],
   "source": [
    "# np.logical_and: Element-wise logical AND\n",
    "logical_and_arr = np.logical_and(arr1, arr2)\n",
    "print(\"Element-wise logical AND:\\n\", logical_and_arr)"
   ]
  },
  {
   "cell_type": "code",
   "execution_count": 51,
   "id": "a94636fb",
   "metadata": {},
   "outputs": [
    {
     "name": "stdout",
     "output_type": "stream",
     "text": [
      "Element-wise logical OR:\n",
      " [ True  True  True False]\n"
     ]
    }
   ],
   "source": [
    "# np.logical_or: Element-wise logical OR\n",
    "logical_or_arr = np.logical_or(arr1, arr2)\n",
    "print(\"Element-wise logical OR:\\n\", logical_or_arr)"
   ]
  },
  {
   "cell_type": "code",
   "execution_count": 52,
   "id": "5ca1b73c",
   "metadata": {},
   "outputs": [
    {
     "name": "stdout",
     "output_type": "stream",
     "text": [
      "Element-wise logical NOT (arr1):\n",
      " [False False  True  True]\n",
      "Element-wise logical NOT (arr2):\n",
      " [False  True False  True]\n"
     ]
    }
   ],
   "source": [
    "# np.logical_not: Element-wise logical NOT\n",
    "logical_not_arr1 = np.logical_not(arr1)\n",
    "logical_not_arr2 = np.logical_not(arr2)\n",
    "print(\"Element-wise logical NOT (arr1):\\n\", logical_not_arr1)\n",
    "print(\"Element-wise logical NOT (arr2):\\n\", logical_not_arr2)"
   ]
  },
  {
   "cell_type": "markdown",
   "id": "24dfa48d",
   "metadata": {},
   "source": [
    "# Sorting, Searching and Counting Examples"
   ]
  },
  {
   "cell_type": "code",
   "execution_count": 53,
   "id": "4b73045b",
   "metadata": {},
   "outputs": [],
   "source": [
    "# Create a NumPy array for demonstration\n",
    "arr = np.array([3, 1, 4, 1, 5, 9, 2, 6, 5])"
   ]
  },
  {
   "cell_type": "code",
   "execution_count": 54,
   "id": "e1ede6a7",
   "metadata": {},
   "outputs": [
    {
     "name": "stdout",
     "output_type": "stream",
     "text": [
      "Sorted array: [1 1 2 3 4 5 5 6 9]\n"
     ]
    }
   ],
   "source": [
    "# np.sort: Sort elements of an array\n",
    "sorted_arr = np.sort(arr)  # Sort arr in ascending order\n",
    "print(\"Sorted array:\", sorted_arr)"
   ]
  },
  {
   "cell_type": "code",
   "execution_count": 55,
   "id": "a4b8db34",
   "metadata": {},
   "outputs": [
    {
     "name": "stdout",
     "output_type": "stream",
     "text": [
      "Indices that would sort the array: [1 3 6 0 2 4 8 7 5]\n"
     ]
    }
   ],
   "source": [
    "# np.argsort: Indices that would sort an array\n",
    "indices_sorted = np.argsort(arr)  # Indices that would sort arr\n",
    "print(\"Indices that would sort the array:\", indices_sorted)"
   ]
  },
  {
   "cell_type": "code",
   "execution_count": 56,
   "id": "63e2dea1",
   "metadata": {},
   "outputs": [
    {
     "name": "stdout",
     "output_type": "stream",
     "text": [
      "Indices to maintain order: [0 3 8]\n"
     ]
    }
   ],
   "source": [
    "# np.searchsorted: Find indices where elements should be inserted to maintain order\n",
    "search_indices = np.searchsorted(sorted_arr, [0, 3, 8])  # Find insertion points for 0, 3, and 8\n",
    "print(\"Indices to maintain order:\", search_indices)"
   ]
  },
  {
   "cell_type": "code",
   "execution_count": 57,
   "id": "6515b94e",
   "metadata": {},
   "outputs": [
    {
     "name": "stdout",
     "output_type": "stream",
     "text": [
      "Unique elements in array: [1 2 3 4 5 6 9]\n"
     ]
    }
   ],
   "source": [
    "# np.unique: Find unique elements in an array\n",
    "unique_elements = np.unique(arr)  # Find unique elements in arr\n",
    "print(\"Unique elements in array:\", unique_elements)"
   ]
  },
  {
   "cell_type": "code",
   "execution_count": 58,
   "id": "06b483a0",
   "metadata": {},
   "outputs": [
    {
     "name": "stdout",
     "output_type": "stream",
     "text": [
      "Bincount of array elements: [0 2 1 1 1 2 1 0 0 1]\n"
     ]
    }
   ],
   "source": [
    "# np.bincount: Count occurrences of each value in an array of non-negative integers\n",
    "bincount_arr = np.bincount(arr)  # Count occurrences of each value in arr\n",
    "print(\"Bincount of array elements:\", bincount_arr)"
   ]
  },
  {
   "cell_type": "markdown",
   "id": "91c7bc26",
   "metadata": {},
   "source": [
    "# File Operations Examples"
   ]
  },
  {
   "cell_type": "code",
   "execution_count": 59,
   "id": "ea051a02",
   "metadata": {},
   "outputs": [],
   "source": [
    "# Create a NumPy array for demonstration\n",
    "arr = np.array([[1, 2, 3], [4, 5, 6]])"
   ]
  },
  {
   "cell_type": "code",
   "execution_count": 60,
   "id": "f41c1a9f",
   "metadata": {},
   "outputs": [],
   "source": [
    "# Save array to .npy file\n",
    "# np.save('my_array.npy', arr)"
   ]
  },
  {
   "cell_type": "code",
   "execution_count": 61,
   "id": "c6c9a9c3",
   "metadata": {},
   "outputs": [],
   "source": [
    "# Load array from .npy file\n",
    "# loaded_arr = np.load('my_array.npy')"
   ]
  },
  {
   "cell_type": "code",
   "execution_count": 62,
   "id": "6ee84652",
   "metadata": {},
   "outputs": [],
   "source": [
    "# print(\"Loaded array from .npy file:\")\n",
    "# print(loaded_arr)"
   ]
  },
  {
   "cell_type": "code",
   "execution_count": null,
   "id": "885751d6",
   "metadata": {},
   "outputs": [],
   "source": []
  },
  {
   "cell_type": "markdown",
   "id": "cb7a894d",
   "metadata": {},
   "source": [
    "# END"
   ]
  }
 ],
 "metadata": {
  "kernelspec": {
   "display_name": "Python 3 (ipykernel)",
   "language": "python",
   "name": "python3"
  },
  "language_info": {
   "codemirror_mode": {
    "name": "ipython",
    "version": 3
   },
   "file_extension": ".py",
   "mimetype": "text/x-python",
   "name": "python",
   "nbconvert_exporter": "python",
   "pygments_lexer": "ipython3",
   "version": "3.9.13"
  }
 },
 "nbformat": 4,
 "nbformat_minor": 5
}
